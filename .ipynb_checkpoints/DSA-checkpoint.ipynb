{
 "cells": [
  {
   "cell_type": "code",
   "execution_count": 10,
   "metadata": {},
   "outputs": [
    {
     "name": "stdout",
     "output_type": "stream",
     "text": [
      "{'india': 20, 'usa': 45, 'japan': 56}\n"
     ]
    }
   ],
   "source": [
    "## Hashmap\n",
    "# store as dic\n",
    "dict = {'india':20,'usa':45,'japan':56}\n",
    "print(dict)"
   ]
  },
  {
   "cell_type": "code",
   "execution_count": 17,
   "metadata": {},
   "outputs": [
    {
     "name": "stdout",
     "output_type": "stream",
     "text": [
      "22\n",
      "23\n"
     ]
    }
   ],
   "source": [
    "print(dict.get('india'))\n",
    "if 'india' in dict:\n",
    "    dict['india']=dict['india'] +1\n",
    "print(dict['india'])"
   ]
  },
  {
   "cell_type": "code",
   "execution_count": 16,
   "metadata": {},
   "outputs": [
    {
     "name": "stdout",
     "output_type": "stream",
     "text": [
      "{'india': 22, 'japan': 56}\n"
     ]
    }
   ],
   "source": [
    "del dict['usa']\n",
    "print(dict)"
   ]
  },
  {
   "cell_type": "code",
   "execution_count": null,
   "metadata": {},
   "outputs": [],
   "source": [
    "dict.keys\n",
    "dict.items\n",
    "dict.clear"
   ]
  },
  {
   "cell_type": "code",
   "execution_count": 39,
   "metadata": {},
   "outputs": [
    {
     "name": "stdout",
     "output_type": "stream",
     "text": [
      "dict_keys(['sun', 'mon', 'tue'])\n",
      "dict_values([10, 20, 30])\n",
      "dict_items([('sun', 10), ('mon', 20), ('tue', 30)])\n",
      "10\n",
      "10\n",
      "2\n",
      "mon 20\n",
      "tue 30\n"
     ]
    }
   ],
   "source": [
    "### dictionay\n",
    "dict = {'sun':10,'mon':20,'tue':30}\n",
    "print(dict.keys()) #dict_keys(['sun', 'mon', 'tue']) \n",
    "print(dict.values()) #dict_values([10, 20, 30])\n",
    "print(dict.items()) #dict_items([('sun', 10), ('mon', 20), ('tue', 30)])\n",
    "print(dict.get('sun')) #10 # return none if key not found\n",
    "print(dict['sun']) #10 ## return error if key not found\n",
    "del dict['sun'] # will delete key values\n",
    "del dict # will delete dictionary\n",
    "dict.pop(key) # print pop values and then delete that key\n",
    "dict.clear() # delete all elements # make empty dict\n",
    "print(len(dict)) #3\n",
    "for key,value in dict.items():\n",
    "    print(key,value)\n",
    "if \"sun\" in dict:\n",
    "    print(dict['sun'])\n",
    "list1 = [1,2,3] # become keys of the dict\n",
    "dict.fromkeys(list1) # keys are the list and values are none \n",
    "{}.fromkeys(range(1,7),10) # keys from 1-6 and values 10\n",
    "dict.setdefault(1)# return value of the key if found otherwise insert key with value if provided\n",
    "dict.update(dict) # dictionary1.update(dictionary2) added dict2 entries into dict1\n",
    "dict.update(list) # dictionary1.update(list) added list entries into dict1\n",
    "dict.update(a=1,b=4,c=4) # dict.update(expressions)"
   ]
  },
  {
   "cell_type": "code",
   "execution_count": 45,
   "metadata": {},
   "outputs": [
    {
     "name": "stdout",
     "output_type": "stream",
     "text": [
      "{'apple', 'banana'}\n",
      "{'apple', 'grapes', 'banana'}\n",
      "frozenset({'dog', 'cat'})\n"
     ]
    }
   ],
   "source": [
    "### SET\n",
    "## mutable-- we and remove or add\n",
    "### unordered but cant we duplicate values\n",
    "set = {\"apple\",\"banana\"}\n",
    "print(set)\n",
    "set.add(\"grapes\")\n",
    "print(set)\n",
    "animals=frozenset(['dog','cat']) ### this is imuatable set, we can not add or updates\n",
    "#print(animals)\n",
    "if \"apple\" in set: # membership checking\n",
    "set.add(elements)\n",
    "set.remove(elements)\n",
    "set1|set2 # unions of two set if duplicates then remove\n",
    "set.clear() # make set empty\n",
    "set1&set2 # interscation gices common values\n",
    "set1-set2 # gives values, if set1 values not present in set set2\n",
    "len(set) # set length\n"
   ]
  },
  {
   "cell_type": "code",
   "execution_count": 47,
   "metadata": {},
   "outputs": [
    {
     "name": "stdout",
     "output_type": "stream",
     "text": [
      "(('dog', 'cat'), ('dog', 'cat'))\n"
     ]
    }
   ],
   "source": [
    "### Tuple\n",
    "## unmutable\n",
    "tuple = ()\n",
    "animal = ('dog','cat')\n",
    "animal[0]\n",
    "animal1= (('dog','cat'),('dog','cat'))\n",
    "print(animal1)"
   ]
  },
  {
   "cell_type": "code",
   "execution_count": null,
   "metadata": {},
   "outputs": [],
   "source": [
    "### stack-- ordered collections of items\n",
    "### last in first out or first in last out\n",
    "# use list for making stack\n",
    "stack = []\n",
    "stack.append() # add elements one by one after means add at the end\n",
    "#stack.push() # ass elements at the starting\n",
    "stack.pop() # remove elements from end\n",
    "len(stack) # stack lenght\n",
    "not stack # check if stack empty if empty returm true else false\n",
    "stack[-1] #give last elements of stack\n",
    "# use collections ---< deque\n",
    "from collections import deque, lifoqueue\n",
    "stack =  deque()\n",
    "stack.append() # add from one end\n",
    "stack.pop() # pop from same end\n",
    "\n",
    "stack = lifoqueue()\n",
    "stack.put()\n",
    "stack.get()"
   ]
  },
  {
   "cell_type": "code",
   "execution_count": null,
   "metadata": {},
   "outputs": [],
   "source": [
    "### Queue insert from one end and pop from another end\n",
    "## use list\n",
    "enqueue -- add element in queue use append method\n",
    "dequeue -- remove element from queue use pop method\n",
    "queue = []\n",
    "queue.append()\n",
    "queue.pop(0)\n",
    "queue.insert(0,10) #(index,value)\n",
    "queue.pop() #remove from end\n",
    "\n",
    "not queue\n",
    "\n",
    "from collections import deque\n",
    "queue = deque\n",
    "queue.appendleft()\n",
    "queue.pop()\n",
    "queue.append()\n",
    "queue.popleft()\n",
    "\n"
   ]
  }
 ],
 "metadata": {
  "kernelspec": {
   "display_name": "Python 3",
   "language": "python",
   "name": "python3"
  },
  "language_info": {
   "codemirror_mode": {
    "name": "ipython",
    "version": 3
   },
   "file_extension": ".py",
   "mimetype": "text/x-python",
   "name": "python",
   "nbconvert_exporter": "python",
   "pygments_lexer": "ipython3",
   "version": "3.8.10"
  }
 },
 "nbformat": 4,
 "nbformat_minor": 4
}
