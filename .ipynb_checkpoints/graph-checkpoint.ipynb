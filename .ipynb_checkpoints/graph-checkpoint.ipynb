{
 "cells": [
  {
   "cell_type": "code",
   "execution_count": 19,
   "metadata": {},
   "outputs": [
    {
     "name": "stdout",
     "output_type": "stream",
     "text": [
      "['a', 'b', 'c', 'd', 'e']\n",
      "0   0   0   0   0   \n",
      "\n",
      "0   0   0   0   10  \n",
      "\n",
      "0   0   0   0   0   \n",
      "\n",
      "0   0   0   0   0   \n",
      "\n",
      "0   10  0   0   0   \n",
      "\n",
      "None\n",
      "['b', 'c', 'd', 'e']\n",
      "0   0   0   0   \n",
      "\n",
      "0   0   0   0   \n",
      "\n",
      "0   0   0   0   \n",
      "\n",
      "0   0   0   0   \n",
      "\n",
      "None\n"
     ]
    }
   ],
   "source": [
    "##### Adjacency matrix\n",
    "nodes = []\n",
    "graph = []\n",
    "nodes_count = 0\n",
    "def add_node(v):\n",
    "    global nodes_count, nodes, graph\n",
    "    if v in nodes:\n",
    "        print(\"Node already present in graph\")\n",
    "    else:\n",
    "        nodes_count = nodes_count + 1\n",
    "        nodes.append(v)\n",
    "        for n in graph:\n",
    "            n.append(0)\n",
    "        temp = []\n",
    "        for i in range(nodes_count):\n",
    "            temp.append(0)\n",
    "        graph.append(temp)\n",
    "def add_edge(v1,v2,cost):\n",
    "    if v1 not in nodes:\n",
    "        print(\"V1 not in graph\")\n",
    "        exit(1)\n",
    "    elif v2 not in nodes:\n",
    "        print(\"V2 not in graph\")\n",
    "        exit(1)\n",
    "    else:\n",
    "        #graph[indexv1][indexv2] = 1\n",
    "        #graph[indexv2][indexv1] = 1\n",
    "        indexv1 = nodes.index(v1) \n",
    "        indexv2 = nodes.index(v2)\n",
    "        graph[indexv1][indexv2] = cost\n",
    "        graph[indexv2][indexv1] = cost\n",
    "def delete_node(v):\n",
    "    global nodes_count\n",
    "    if v not in nodes:\n",
    "        print(\"Node not present in graph\")\n",
    "    else:\n",
    "        indexv = nodes.index(v)\n",
    "        nodes_count = nodes_count - 1\n",
    "        nodes.remove(v)\n",
    "        graph.pop(indexv)\n",
    "        for i in graph:\n",
    "            i.pop(indexv)\n",
    "def delete_edge(v1,v2):\n",
    "    if v1 not in nodes:\n",
    "        print(\"V1 not in graph\")\n",
    "        exit(1)\n",
    "    elif v2 not in nodes:\n",
    "        print(\"V2 not in graph\")\n",
    "        exit(1)\n",
    "    else:\n",
    "        indexv1 = nodes.index(v1) \n",
    "        indexv2 = nodes.index(v2)\n",
    "        graph[indexv1][indexv2] = 0\n",
    "        graph[indexv2][indexv1] = 0\n",
    "def print_graph():\n",
    "    for i in range(nodes_count):\n",
    "        for j in range(nodes_count):\n",
    "            print(format(graph[i][j],\"<3\"),end=\" \")\n",
    "        print(\"\\n\")\n",
    "    \n",
    "\n",
    "add_node(\"a\")\n",
    "add_node(\"b\")\n",
    "add_node(\"c\")\n",
    "add_node(\"d\")\n",
    "add_node(\"e\")\n",
    "print(nodes)\n",
    "add_edge(\"b\",\"e\",10)\n",
    "print(print_graph())\n",
    "delete_node(\"a\")\n",
    "delete_edge(\"b\",\"e\")\n",
    "print(nodes)\n",
    "print(print_graph())"
   ]
  },
  {
   "cell_type": "code",
   "execution_count": 2,
   "metadata": {},
   "outputs": [
    {
     "name": "stdout",
     "output_type": "stream",
     "text": [
      "{'a': [], 'b': [['d', 4], ['e', 10], ['c', 5]], 'c': [['b', 5]], 'd': [['b', 4]], 'e': [['b', 10]]}\n"
     ]
    }
   ],
   "source": [
    "graph = {}\n",
    "nodes_count = 0\n",
    "def add_node(v):\n",
    "    if v in graph:\n",
    "        print(\"V already in graph\")\n",
    "    else:\n",
    "        graph[v] = []\n",
    "def add_edge(v1,v2,cost):\n",
    "    if v1 not in graph:\n",
    "        print(\"V1 not in graph\")\n",
    "        exit(1)\n",
    "    elif v2 not in graph:\n",
    "        print(\"V2 not in graph\")\n",
    "        exit(1)\n",
    "    else:\n",
    "        listv1 = [v2,cost]\n",
    "        listv2 = [v1,cost]\n",
    "        #graph[v1].append(v2)\n",
    "        #graph[v2].append(v1)\n",
    "        graph[v1].append(listv1)\n",
    "        graph[v2].append(listv2)\n",
    "def delete_node(v):\n",
    "    if v not in graph:\n",
    "        print(\"V not in graph\")\n",
    "    else:\n",
    "        graph.pop(v)\n",
    "        for i in graph:\n",
    "            listv = graph[i]\n",
    "            #if v in listv:\n",
    "            #    listv.remove(v)\n",
    "            for j in listv:\n",
    "                if v == j[0]:\n",
    "                    listv.remove(j)\n",
    "                    break\n",
    "def delete_edge(v1,v2):\n",
    "    if v1 not in graph:\n",
    "        print(\"V1 not in graph\")\n",
    "        exit(1)\n",
    "    elif v2 not in graph:\n",
    "        print(\"V2 not in graph\")\n",
    "        exit(1)\n",
    "    else:\n",
    "        if v2 in graph[v1]:\n",
    "            graph[v1].remove(v2)\n",
    "            graph[v2].remove(v1)\n",
    "        if v2 in graph[v1]:\n",
    "            graph[v1].remove(v2)\n",
    "        tempv1 = [v1,cost]\n",
    "        tempv2 = [v2,cost]\n",
    "        if tempv2 in graph[v1]:\n",
    "            graph[v1].remove(tempv2)\n",
    "            graph[v2].remove(tempv1)\n",
    "        tempv1 = [v1,cost]\n",
    "        tempv2 = [v2,cost]\n",
    "        if tempv2 in graph[v1]:\n",
    "            graph[v1].remove(tempv2)\n",
    "            \n",
    "                \n",
    "add_node(\"a\")\n",
    "add_node(\"b\")\n",
    "add_node(\"c\")\n",
    "add_node(\"d\")\n",
    "add_node(\"e\")\n",
    "add_edge(\"b\",\"d\",4)\n",
    "add_edge(\"b\",\"e\",10)\n",
    "add_edge(\"b\",\"c\",5)\n",
    "print(graph)\n"
   ]
  },
  {
   "cell_type": "code",
   "execution_count": 49,
   "metadata": {},
   "outputs": [
    {
     "name": "stdout",
     "output_type": "stream",
     "text": [
      "True True\n",
      "[0, 0, 0, 0, 0]\n",
      "[0, 1, 0, 4, 0]\n",
      "[0, 2, 0, 2, 0]\n",
      "[0, 0, 0, 0, 0]\n",
      "[0, 0, 0, 0, 0]\n"
     ]
    }
   ],
   "source": [
    "### set zeros\n",
    "\n",
    "set_mat = [[0, 1, 1, 3, 1],\n",
    "           [1, 1, 9, 4, 8],\n",
    "           [1, 2, 1, 2, 5],\n",
    "           [1, 4, 0, 1, 5],\n",
    "           [4, 1, 4, 2, 0]]\n",
    "\n",
    "row_status = False\n",
    "col_status = False\n",
    "counter = 1\n",
    "for row in set_mat:\n",
    "    if row[0] == 0:\n",
    "        row_status = True\n",
    "    if counter == 1:\n",
    "        for i in row:\n",
    "            if i == 0:\n",
    "                col_status = True\n",
    "        counter = counter + 1\n",
    "print(row_status,col_status)\n",
    "\n",
    "for i in range(1,len(set_mat)):\n",
    "    for j in range(1,len(set_mat)):\n",
    "        if set_mat[i][j] == 0:\n",
    "            set_mat[i][0] = 0\n",
    "            set_mat[0][j] = 0\n",
    "#for mat in set_mat:\n",
    "#    print(mat)\n",
    "#print(\"\\n\")\n",
    "for i in range(1,len(set_mat)):\n",
    "    if set_mat[i][0] == 0:\n",
    "        for j in range(1,len(set_mat)):\n",
    "            set_mat[i][j]=0\n",
    "#for mat in set_mat:\n",
    "#    print(mat)\n",
    "#print(\"\\n\")\n",
    "for i in range(1,len(set_mat)):\n",
    "    if set_mat[0][i] == 0:\n",
    "        for j in range(1,len(set_mat)):\n",
    "            set_mat[j][i]=0\n",
    "if (row_status):\n",
    "    for i in range(len(set_mat)):\n",
    "        set_mat[i][0] = 0\n",
    "if (col_status):\n",
    "    for i in range(len(set_mat)):\n",
    "        set_mat[0][i] = 0\n",
    "for mat in set_mat:\n",
    "    print(mat)"
   ]
  },
  {
   "cell_type": "code",
   "execution_count": 60,
   "metadata": {},
   "outputs": [
    {
     "name": "stdout",
     "output_type": "stream",
     "text": [
      "36\n",
      "800\n"
     ]
    }
   ],
   "source": [
    "## Maximum Product Subarray in an Array\n",
    "num_list  = [3,6,2,0,-3,8,100]\n",
    "num_len = len(num_list)\n",
    "final_sum = -9999\n",
    "current_sum = 1\n",
    "for i in range(num_len):\n",
    "    current_sum = current_sum*num_list[i]\n",
    "    final_sum =  max(current_sum,final_sum)\n",
    "    if current_sum == 0:\n",
    "        current_sum = 1\n",
    "print(final_sum)\n",
    "current_sum = 1\n",
    "for num in num_list[::-1]:\n",
    "    current_sum = current_sum*num\n",
    "    final_sum =  max(current_sum,final_sum)\n",
    "    if current_sum == 0:\n",
    "        current_sum = 1\n",
    "print(final_sum)"
   ]
  },
  {
   "cell_type": "code",
   "execution_count": 74,
   "metadata": {},
   "outputs": [
    {
     "name": "stdout",
     "output_type": "stream",
     "text": [
      "7\n"
     ]
    }
   ],
   "source": [
    "###Maximum Subarray Sum\n",
    "num_list  = [3,-4,5,-5]#[-2,1,-3,4,-1,2,1,-5,4]\n",
    "csum = num_list[0]\n",
    "fsum = 0\n",
    "csum_list = []\n",
    "fsum_list = []\n",
    "for i in range(len(num_list)):   \n",
    "    if(csum > 0):\n",
    "        csum = csum + num_list[i]\n",
    "        #csum_list.append(num_list[i])\n",
    "    else:\n",
    "        #csum_list[:]\n",
    "        csum = num_list[i]\n",
    "        #csum_list.append(num_list[i])\n",
    "    if csum > fsum:\n",
    "        fsum = csum # for kadenas algo\n",
    "        \n",
    "print(fsum)\n",
    "\n"
   ]
  },
  {
   "cell_type": "code",
   "execution_count": 93,
   "metadata": {},
   "outputs": [
    {
     "name": "stdout",
     "output_type": "stream",
     "text": [
      "Maximum contiguous sum is 5\n"
     ]
    }
   ],
   "source": [
    "###Maximum Subarray Sum with k elements\n",
    "num_list  = [3,-4,5,-5]#[-2,1,-3,4,-1,2,1,-5,4]\n",
    "csum = num_list[0]\n",
    "fsum = num_list[0]\n",
    "maxsum = []\n",
    "for i in range(1,len(num_list)):\n",
    "    \n",
    "    if(csum + num_list[i] >= csum):\n",
    "        csum = csum + num_list[i]\n",
    "    else:\n",
    "        csum = num_list[i]\n",
    "    if csum > fsum:\n",
    "        fsum = csum\n",
    "        \n",
    "#print(fsum)\n",
    "\n",
    "# Python program to find maximum contiguous subarray\n",
    "\n",
    "def maxSubArraySum(a,size):\n",
    "\n",
    "    max_so_far =a[0]\n",
    "    curr_max = a[0]\n",
    "    \n",
    "    for i in range(1,size):\n",
    "        curr_max = max(a[i], curr_max + a[i])\n",
    "        max_so_far = max(max_so_far,curr_max)\n",
    "        \n",
    "    return max_so_far\n",
    "\n",
    "# Driver function to check the above function\n",
    "a = [3,-4,5,-5]#[-2, -3, 4, -1, -2, 1, 5, -3]\n",
    "print(\"Maximum contiguous sum is\" , maxSubArraySum(a,len(a)))"
   ]
  },
  {
   "cell_type": "code",
   "execution_count": 124,
   "metadata": {},
   "outputs": [
    {
     "name": "stdout",
     "output_type": "stream",
     "text": [
      "[False, False, False, False, False, False, False, False, False, False, False]\n",
      "[False, False, False, False, False, False, False, False, False, False, False]\n",
      "[False, False, False, False, False, False, False, False, False, False, False]\n",
      "[False, False, False, False, False, False, False, False, False, False, False]\n",
      "\n",
      "\n",
      "[True, True, True, True, True, True, True, True, True, True, True]\n",
      "[True, True, True, True, True, True, True, True, True, True, True]\n",
      "[True, True, True, True, True, True, True, True, True, True, True]\n",
      "[True, True, True, True, True, True, True, True, True, True, True]\n"
     ]
    }
   ],
   "source": [
    "##Target Sum Subsets Dynamic Programming | Subset Sum Problem\n",
    "arr = [1,2,3]\n",
    "target = 10\n",
    "arr_len = len(arr)\n",
    "rows,cols = (arr_len+1,target+1)\n",
    "dp =[[False]*cols]*rows\n",
    "for i in dp:\n",
    "    print(i)\n",
    "for i in range(arr_len+1):\n",
    "    for j in range(target+1):\n",
    "        \n",
    "        if i == 0 and j == 0:\n",
    "            dp[i][j] = True\n",
    "        elif i == 0:\n",
    "            dp[i][j] = False\n",
    "        elif j == 0:\n",
    "            dp[i][j] = True\n",
    "        else:\n",
    "            if dp[i-1][j] == True:\n",
    "                dp[i][j] = True\n",
    "            else:\n",
    "                val = arr[i-1]\n",
    "                if j >= val:\n",
    "                    if dp[i-1][j-val] == True:\n",
    "                        dp[i][j] = True\n",
    "print(\"\\n\")\n",
    "for i in dp:\n",
    "    print(i)"
   ]
  },
  {
   "cell_type": "code",
   "execution_count": 139,
   "metadata": {},
   "outputs": [
    {
     "name": "stdout",
     "output_type": "stream",
     "text": [
      "[4, 5, 1, 2, 6, 7, 9]\n",
      "[0, 0, 0, 0, 0, 1, 1, 1, 1, 1, 1, 1]\n",
      "[0, 0, 0, 0, 0, 1, 1, 1, 1, 1, 1, 1, 2, 2, 2, 2, 2, 2, 2]\n"
     ]
    }
   ],
   "source": [
    "### array partitions\n",
    "arr = [9,4,5,1,6,7,2]\n",
    "target  = 5\n",
    "i = j = 0\n",
    "def swap1(arr,i,j):\n",
    "    temp = arr[i]\n",
    "    arr[i] = arr[j]\n",
    "    arr[j] = temp\n",
    "while(i< len(arr)):\n",
    "    if arr[i] > target:\n",
    "        i = i+1\n",
    "    else:\n",
    "        swap1(arr,i,j)\n",
    "        i = i+1\n",
    "        j = j+1\n",
    "print(arr)\n",
    "\n",
    "arr1 = [1,1,0,1,0,0,1,1,1,0,0,1]\n",
    "target  = 1\n",
    "i = j = 0\n",
    "def swap1(arr1,i,j):\n",
    "    temp = arr1[i]\n",
    "    arr1[i] = arr1[j]\n",
    "    arr1[j] = temp\n",
    "while(i< len(arr1)):\n",
    "    if arr1[i] == target:\n",
    "        i = i+1\n",
    "    else:\n",
    "        swap1(arr1,i,j)\n",
    "        i = i+1\n",
    "        j = j+1\n",
    "print(arr1)\n",
    "arr2 = [1,1,0,2,1,0,2,0,1,1,2,2,1,0,0,2,2,1,2]\n",
    "\n",
    "i = j =  0\n",
    "k = len(arr2) - 1 \n",
    "def swap2(arr2,i,j):\n",
    "    temp = arr2[i]\n",
    "    arr2[i] = arr2[j]\n",
    "    arr2[j] = temp\n",
    "while(i<=k):\n",
    "    if arr2[i] == 0:\n",
    "        swap2(arr2,i,j)\n",
    "        i = i+1\n",
    "        j = j+1\n",
    "        \n",
    "    elif arr2[i]==1:\n",
    "        i = i+1\n",
    "    else:\n",
    "        swap2(arr2,i,k)\n",
    "        k = k - 1\n",
    "print(arr2)"
   ]
  },
  {
   "cell_type": "code",
   "execution_count": 163,
   "metadata": {},
   "outputs": [
    {
     "name": "stdout",
     "output_type": "stream",
     "text": [
      "[0, 0, 0, 1, 4]\n",
      "[0, 0, 0, 1, 4]\n",
      "[0, 0, 0, 1, 4]\n",
      "[0, 0, 0, 1, 4]\n"
     ]
    }
   ],
   "source": [
    "### partition into subsets\n",
    "n = 4\n",
    "k = 3\n",
    "results = 0\n",
    "if n==0 or k==0 or n<k:\n",
    "    print(results)\n",
    "\n",
    "dp = [[0]*(n+1)]*(k+1)\n",
    "for t in range(1,k+1):\n",
    "    for p in range(1,n+1):\n",
    "        if p < t:\n",
    "            dp[t][p]=0\n",
    "        elif p==t:\n",
    "            dp[t][p]=1\n",
    "        else:\n",
    "            dp[t][p] = dp[t-1][p-1] + dp[t][p-1]*t\n",
    "for i in dp:\n",
    "    print(i)"
   ]
  },
  {
   "cell_type": "code",
   "execution_count": 180,
   "metadata": {},
   "outputs": [
    {
     "name": "stdout",
     "output_type": "stream",
     "text": [
      "4\n"
     ]
    }
   ],
   "source": [
    "def Partition_into_subsets(n, k):\n",
    "    res = 0\n",
    "    if n==0 or k==0 or n<k:\n",
    "        res = 0\n",
    "    dp = [[0]*(n+1)]*(k+1)\n",
    "    for t in range(1,k+1):\n",
    "        for p in range(1,n+1):\n",
    "            if p < t:\n",
    "                dp[t][p]=0\n",
    "            elif k == 1 or p==t:\n",
    "                dp[t][p]=1\n",
    "            else:\n",
    "                dp[t][p] = dp[t-1][p-1] + dp[t][p-1]*t\n",
    "    res = dp[k][n]\n",
    "\n",
    "    return res\n",
    "\n",
    "if __name__ == '__main__':\n",
    "    n = 4\n",
    "    k = 3\n",
    "    print(Partition_into_subsets(n, k))"
   ]
  },
  {
   "cell_type": "code",
   "execution_count": 176,
   "metadata": {},
   "outputs": [
    {
     "name": "stdout",
     "output_type": "stream",
     "text": [
      "6\n"
     ]
    }
   ],
   "source": [
    "def countP(n, k):\n",
    "    \n",
    "    # Base cases\n",
    "    if (n == 0 or k == 0 or k > n):\n",
    "        return 0\n",
    "    if (k == 1 or k == n):\n",
    "        return 1\n",
    "    \n",
    "    # S(n+1, k) = k*S(n, k) + S(n, k-1)\n",
    "    return (k * countP(n - 1, k) +\n",
    "    countP(n - 1, k - 1))\n",
    "\n",
    "# Driver Code\n",
    "if __name__ == \"__main__\":\n",
    "    print(countP(4, 3))\n",
    "\n",
    "\n"
   ]
  },
  {
   "cell_type": "code",
   "execution_count": 184,
   "metadata": {},
   "outputs": [
    {
     "name": "stdout",
     "output_type": "stream",
     "text": [
      "79\n"
     ]
    }
   ],
   "source": [
    "## buy sell one transaction allowed.buy-sell\n",
    "import sys\n",
    "price = [-1,23,2,5,27,6,2,56,7,2,1,78]\n",
    "least_so_far = sys.maxsize\n",
    "overall_profit = 0\n",
    "today_sell_profit = 0\n",
    "for i in range(len(price)):\n",
    "    if price[i] < least_so_far:\n",
    "        least_so_far = price[i]\n",
    "    today_sell_profit = price[i]-least_so_far\n",
    "    if today_sell_profit > overall_profit:\n",
    "        overall_profit = today_sell_profit\n",
    "print(overall_profit)"
   ]
  },
  {
   "cell_type": "code",
   "execution_count": 189,
   "metadata": {},
   "outputs": [
    {
     "name": "stdout",
     "output_type": "stream",
     "text": [
      "2\n"
     ]
    }
   ],
   "source": [
    "## buy sell- infinity transaction allowed.\n",
    "## but cant do buy-buy-sell-sell\n",
    "## only can do buy-sell-buy-sell...\n",
    "price = [1,2,3]\n",
    "buy_date = 0\n",
    "sell_date = 0\n",
    "profit = 0\n",
    "for i in range(1,len(price)):\n",
    "    if price[i] >= price[i-1]:\n",
    "        sell_date = sell_date + 1\n",
    "    else:\n",
    "        profit = profit + price[sell_date] - price[buy_date]\n",
    "        sell_date = buy_date = i\n",
    "profit = profit + price[sell_date] - price[buy_date]\n",
    "        \n",
    "print(profit)"
   ]
  },
  {
   "cell_type": "code",
   "execution_count": 193,
   "metadata": {},
   "outputs": [
    {
     "name": "stdout",
     "output_type": "stream",
     "text": [
      "3\n"
     ]
    }
   ],
   "source": [
    "##minimun railway stations requires\n",
    "arr = [900, 940, 950, 1100, 1500, 1800]\n",
    "dep = [910, 1200, 1120, 1130, 1900, 2000]\n",
    "n = len(arr)\n",
    "arr.sort()\n",
    "dep.sort()\n",
    "\n",
    "\n",
    "plat_needed = 1\n",
    "result = 1\n",
    "i = 1\n",
    "j = 0\n",
    "\n",
    "\n",
    "while (i < n and j < n):\n",
    "    if (arr[i] <= dep[j]):\n",
    "        plat_needed += 1\n",
    "        i += 1\n",
    "\n",
    "    elif (arr[i] > dep[j]):\n",
    "\n",
    "        plat_needed -= 1\n",
    "        j += 1\n",
    "    if (plat_needed > result):\n",
    "        result = plat_needed\n",
    "print(result)\n",
    "\n",
    "\n",
    "        "
   ]
  },
  {
   "cell_type": "code",
   "execution_count": null,
   "metadata": {},
   "outputs": [],
   "source": [
    "### meeting room, if all meetings possible or not\n",
    "s = [1,3,7,8,9]\n",
    "e = [3,6,8,10,15]\n",
    "i = 1\n",
    "j = 0\n",
    "result = 1\n",
    "while (i < len(s) and j < len(e)):\n",
    "    if s[i] < e[j]:\n",
    "        result = 0   \n",
    "    else:\n",
    "        i = i+1\n",
    "        j = j+1\n",
    "print(result)"
   ]
  },
  {
   "cell_type": "code",
   "execution_count": null,
   "metadata": {},
   "outputs": [],
   "source": []
  }
 ],
 "metadata": {
  "kernelspec": {
   "display_name": "Python 3",
   "language": "python",
   "name": "python3"
  },
  "language_info": {
   "codemirror_mode": {
    "name": "ipython",
    "version": 3
   },
   "file_extension": ".py",
   "mimetype": "text/x-python",
   "name": "python",
   "nbconvert_exporter": "python",
   "pygments_lexer": "ipython3",
   "version": "3.8.10"
  }
 },
 "nbformat": 4,
 "nbformat_minor": 4
}
