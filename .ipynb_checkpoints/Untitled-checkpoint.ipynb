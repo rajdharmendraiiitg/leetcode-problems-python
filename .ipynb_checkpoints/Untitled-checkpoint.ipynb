{
 "cells": [
  {
   "cell_type": "code",
   "execution_count": null,
   "metadata": {},
   "outputs": [],
   "source": [
    "https://leetcode.com/problems/unique-binary-search-trees/discuss/703644/PythonEasy-DP-Solution-Explained-By-Someone-Who-Used-To-Struggle-To-Understand-DP\n",
    "https://leetcode.com/problems/unique-binary-search-trees-ii/discuss/929000/Recursive-solution-long-explanation\n",
    "https://leetcode.com/problems/validate-binary-search-tree/discuss/974185/Python-simple-dfs-explained\n",
    "https://www.baeldung.com/cs/bst-validation\n",
    "https://github.com/neetcode-gh/leetcode/blob/main/python/226-Invert-Binary-Tree.py\n",
    "https://github.com/xizhengszhang/Leetcode_company_frequency\n",
    "https://leetcode.com/problems/second-minimum-node-in-a-binary-tree/discuss/2086672/Python-BFS-simple-with-explanation\n",
    "https://leetcode.com/problems/same-tree/discuss/32729/Shortest%2Bsimplest-Python\n",
    "https://leetcode.com/problems/symmetric-tree/discuss/33050/Recursively-and-iteratively-solution-in-Python\n",
    "https://leetcode.com/problems/deepest-leaves-sum/discuss/1152947/Deepest-Leaves-Sum-or-Short-and-Easy-Solutions-w-Explanation-or-BFS-and-DFS-Approach\n"
   ]
  }
 ],
 "metadata": {
  "kernelspec": {
   "display_name": "Python 3",
   "language": "python",
   "name": "python3"
  },
  "language_info": {
   "codemirror_mode": {
    "name": "ipython",
    "version": 3
   },
   "file_extension": ".py",
   "mimetype": "text/x-python",
   "name": "python",
   "nbconvert_exporter": "python",
   "pygments_lexer": "ipython3",
   "version": "3.8.10"
  }
 },
 "nbformat": 4,
 "nbformat_minor": 4
}
