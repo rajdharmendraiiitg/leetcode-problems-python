{
 "cells": [
  {
   "cell_type": "code",
   "execution_count": 1,
   "metadata": {},
   "outputs": [
    {
     "name": "stdout",
     "output_type": "stream",
     "text": [
      "3\n"
     ]
    }
   ],
   "source": [
    "##minimun railway stations requires\n",
    "arr = [900, 940, 950, 1100, 1500, 1800]\n",
    "dep = [910, 1200, 1120, 1130, 1900, 2000]\n",
    "n = len(arr)\n",
    "arr.sort()\n",
    "dep.sort()\n",
    "plat_needed = 1\n",
    "result = 1\n",
    "i = 1\n",
    "j = 0\n",
    "while (i < n and j < n):\n",
    "    if (arr[i] <= dep[j]):\n",
    "        plat_needed += 1\n",
    "        i += 1\n",
    "\n",
    "    elif (arr[i] > dep[j]):\n",
    "\n",
    "        plat_needed -= 1\n",
    "        j += 1\n",
    "    if (plat_needed > result):\n",
    "        result = plat_needed\n",
    "print(result)"
   ]
  },
  {
   "cell_type": "code",
   "execution_count": 3,
   "metadata": {},
   "outputs": [
    {
     "name": "stdout",
     "output_type": "stream",
     "text": [
      "False\n"
     ]
    }
   ],
   "source": [
    "## check if person able to attend all meeting or not\n",
    "### sort the array on starting time\n",
    "s = [1,3,7,8,9] # starting time\n",
    "e = [3,6,8,10,15] # end time\n",
    "i = 1\n",
    "j = 0\n",
    "result = True\n",
    "for i in range(1,len(s)):\n",
    "    if s[i] < e[j]:\n",
    "        result = False\n",
    "        break\n",
    "    else:\n",
    "        j=j+1\n",
    "print(result)"
   ]
  },
  {
   "cell_type": "code",
   "execution_count": 4,
   "metadata": {},
   "outputs": [
    {
     "name": "stdout",
     "output_type": "stream",
     "text": [
      "2\n"
     ]
    }
   ],
   "source": [
    "### how many room will need to scheduled all meetings\n",
    "arr = [1,3,7,8,9] # starting time\n",
    "dep = [3,6,8,10,15] # end time\n",
    "n = len(arr)\n",
    "arr.sort()\n",
    "dep.sort()\n",
    "plat_needed = 1\n",
    "result = 1\n",
    "i = 1\n",
    "j = 0\n",
    "while (i < n and j < n):\n",
    "    if (arr[i] <= dep[j]):\n",
    "        plat_needed += 1\n",
    "        i += 1\n",
    "\n",
    "    elif (arr[i] > dep[j]):\n",
    "\n",
    "        plat_needed -= 1\n",
    "        j += 1\n",
    "    if (plat_needed > result):\n",
    "        result = plat_needed\n",
    "print(result)"
   ]
  },
  {
   "cell_type": "code",
   "execution_count": null,
   "metadata": {},
   "outputs": [],
   "source": []
  }
 ],
 "metadata": {
  "kernelspec": {
   "display_name": "Python 3",
   "language": "python",
   "name": "python3"
  },
  "language_info": {
   "codemirror_mode": {
    "name": "ipython",
    "version": 3
   },
   "file_extension": ".py",
   "mimetype": "text/x-python",
   "name": "python",
   "nbconvert_exporter": "python",
   "pygments_lexer": "ipython3",
   "version": "3.8.10"
  }
 },
 "nbformat": 4,
 "nbformat_minor": 4
}
