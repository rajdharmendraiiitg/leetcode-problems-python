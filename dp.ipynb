{
 "cells": [
  {
   "cell_type": "code",
   "execution_count": 12,
   "metadata": {},
   "outputs": [
    {
     "name": "stdout",
     "output_type": "stream",
     "text": [
      "1\n",
      "0\n",
      "1\n",
      "1\n",
      "1\n",
      "2\n",
      "2\n",
      "2\n"
     ]
    }
   ],
   "source": [
    "#### minimum coins by combination\n",
    "### infinite supply\n",
    "coins = [2,3,5]\n",
    "target = 7\n",
    "dp = [0]*(target+1)\n",
    "dp[0] = 1\n",
    "for i in range(len(coins)):\n",
    "    for j in range(coins[i],target+1):\n",
    "        dp[j] = dp[j]+dp[j-coins[i]]\n",
    "for i in dp:\n",
    "    print(i)"
   ]
  },
  {
   "cell_type": "code",
   "execution_count": 16,
   "metadata": {},
   "outputs": [
    {
     "name": "stdout",
     "output_type": "stream",
     "text": [
      "1\n",
      "0\n",
      "1\n",
      "1\n",
      "1\n",
      "3\n",
      "3\n",
      "5\n",
      "8\n",
      "10\n",
      "17\n"
     ]
    }
   ],
   "source": [
    "#### minimum coins by permutation\n",
    "### infinite supply\n",
    "coins = [2,3,5,6]\n",
    "target = 10\n",
    "dp = [0]*(target+1)\n",
    "dp[0] = 1\n",
    "for i in range(target+1):\n",
    "    for j in range(0,len(coins)):\n",
    "        if coins[j] <= i:\n",
    "            dp[i] = dp[i]+dp[i-coins[j]]\n",
    "for i in dp:\n",
    "    print(i)"
   ]
  },
  {
   "cell_type": "code",
   "execution_count": 51,
   "metadata": {},
   "outputs": [
    {
     "name": "stdout",
     "output_type": "stream",
     "text": [
      "[True, False, False, False, False, False]\n",
      "[True, False, False, False, True, False]\n",
      "[True, False, True, False, True, False]\n",
      "[True, True, True, True, True, True]\n",
      "[True, True, True, True, True, True]\n",
      "[True, True, True, True, True, True]\n"
     ]
    }
   ],
   "source": [
    "### Target Sum Subsets\n",
    "arr = [4,2,7,1,3] # len(arr)+1-->rows\n",
    "tar = 5 ## 11---> cols\n",
    "rows,cols = (len(arr)+1,tar+1)\n",
    "\n",
    "#dp = [[0]*cols]*rows\n",
    "dp = ([[False for i in range(len(arr) + 1)]\n",
    "                for i in range(tar + 1)])\n",
    "'''for i in range(len(arr) + 1):\n",
    "    dp[i][0] = True\n",
    "for i in range(1,tar + 1):\n",
    "    dp[0][i] = False\n",
    "for i in range(1,len(arr)+1):\n",
    "    for j in range(1,tar+1):\n",
    "            if  j<arr[i-1]:\n",
    "                    dp[i][j]=dp[i-1][j]\n",
    "            if  j >= arr[i-1]:\n",
    "                 dp[i][j]=(dp[i-1][j] or dp[i-1][j-arr[i-1]])\n",
    "'''\n",
    "for i in range(len(arr)+1):\n",
    "    for j in range(tar+1):\n",
    "        if i==0 and j==0:\n",
    "            dp[i][j] = True\n",
    "        elif i==0:\n",
    "            dp[i][j]=False\n",
    "        elif j==0:\n",
    "            dp[i][j]=True\n",
    "        else:\n",
    "            if dp[i-1][j]==True:\n",
    "                dp[i][j]=True\n",
    "            else:\n",
    "                if dp[i-1][j-arr[i-1]]==True:\n",
    "                    dp[i][j] = True\n",
    "            \n",
    "                \n",
    "#for i in dp:\n",
    "#    print(i)\n"
   ]
  },
  {
   "cell_type": "code",
   "execution_count": 40,
   "metadata": {},
   "outputs": [
    {
     "name": "stdout",
     "output_type": "stream",
     "text": [
      "[True, False, False, False, False, False, False, False, False, False]\n",
      "[True, False, False, True, False, False, False, False, False, False]\n",
      "[True, False, False, True, False, False, False, False, False, False]\n",
      "[True, False, False, True, True, False, False, True, False, False]\n",
      "[True, False, False, True, True, False, False, True, False, False]\n",
      "[True, False, False, True, True, True, False, True, True, True]\n",
      "[True, False, True, True, True, True, True, True, True, True]\n",
      "Found a subset with given sum\n"
     ]
    }
   ],
   "source": [
    "def isSubsetSum(set, n, sum):\n",
    "    subset =([[False for i in range(sum + 1)]\n",
    "                for i in range(n + 1)])\n",
    "    \n",
    "    # If sum is 0, then answer is true\n",
    "    for i in range(n + 1):\n",
    "        subset[i][0] = True\n",
    "    for i in range(1, sum + 1):\n",
    "        subset[0][i]= False\n",
    "    for i in range(1, n + 1):\n",
    "        for j in range(1, sum + 1):\n",
    "            if j<set[i-1]:\n",
    "                subset[i][j] = subset[i-1][j]\n",
    "            if j>= set[i-1]:\n",
    "                subset[i][j] = (subset[i-1][j] or\n",
    "                            subset[i - 1][j-set[i-1]])\n",
    "    for i in subset:\n",
    "        print(i)\n",
    "    return subset[n][sum]\n",
    "# Driver code\n",
    "if __name__=='__main__':\n",
    "    set = [3, 34, 4, 12, 5, 2]\n",
    "    sum = 9\n",
    "    n = len(set)\n",
    "    if (isSubsetSum(set, n, sum) == True):\n",
    "        print(\"Found a subset with given sum\")\n",
    "    else:\n",
    "        print(\"No subset with given sum\")\n"
   ]
  },
  {
   "cell_type": "code",
   "execution_count": 1,
   "metadata": {},
   "outputs": [
    {
     "data": {
      "text/plain": [
       "'def get_subsets(arr, n, value): \\n    # return immediately if there is no possible subset in arr whose sum is equal to value\\n    if dp[n][value] == False:\\n        return\\n        \\n    queue = deque()\\n    queue.append(Pair(n, value, set()))\\n\\n    while len(queue) > 0:\\n        pair = queue.popleft()\\n        if pair.i == 0 or pair.j == 0:\\n            result.append(pair.path_set)\\n        else:\\n            exclude = dp[pair.i - 1][pair.j]\\n            if exclude:\\n                queue.append(Pair(pair.i-1, pair.j, pair.path_set))\\n\\n            if pair.j >= arr[pair.i-1]:\\n                include = dp[pair.i - 1][pair.j - arr[pair.i -1]]\\n                if include:\\n                    b = pair.path_set.copy()\\n                    b.add(pair.i - 1)\\n                    queue.append(Pair(pair.i - 1, pair.j-arr[pair.i-1], b))\\nget_subsets(arr, len(arr), tar)'"
      ]
     },
     "execution_count": 1,
     "metadata": {},
     "output_type": "execute_result"
    }
   ],
   "source": [
    "### print all subset with target sum\n",
    "arr = [4,2,7,1,3] # len(arr)+1-->rows\n",
    "tar = 5 ## 11---> cols\n",
    "rows,cols = (len(arr)+1,tar+1)\n",
    "\n",
    "#dp = [[0]*cols]*rows\n",
    "dp = ([[False for i in range(len(arr) + 1)]\n",
    "                for i in range(tar + 1)])\n",
    "for i in range(len(arr)+1):\n",
    "    for j in range(tar+1):\n",
    "        if i==0 and j==0:\n",
    "            dp[i][j] = True\n",
    "        elif i==0:\n",
    "            dp[i][j]=False\n",
    "        elif j==0:\n",
    "            dp[i][j]=True\n",
    "        else:\n",
    "            if dp[i-1][j]==True:\n",
    "                dp[i][j]=True\n",
    "            else:\n",
    "                if dp[i-1][j-arr[i-1]]==True:\n",
    "                    dp[i][j] = True\n",
    "\n",
    "\n",
    "'''from collections import deque\n",
    "\n",
    "class Pair:\n",
    "    def __init__(self, i, j, path_set):\n",
    "        self.i = i\n",
    "        self.j = j\n",
    "        self.path_set = path_set\n",
    "\n",
    "def get_subsets(arr, n, value): \n",
    "    # return immediately if there is no possible subset in arr whose sum is equal to value\n",
    "    if dp[n][value] == False:\n",
    "        return\n",
    "        \n",
    "    queue = deque()\n",
    "    queue.append(Pair(n, value, set()))\n",
    "\n",
    "    while len(queue) > 0:\n",
    "        pair = queue.popleft()\n",
    "        if pair.i == 0 or pair.j == 0:\n",
    "            result.append(pair.path_set)\n",
    "        else:\n",
    "            exclude = dp[pair.i - 1][pair.j]\n",
    "            if exclude:\n",
    "                queue.append(Pair(pair.i-1, pair.j, pair.path_set))\n",
    "\n",
    "            if pair.j >= arr[pair.i-1]:\n",
    "                include = dp[pair.i - 1][pair.j - arr[pair.i -1]]\n",
    "                if include:\n",
    "                    b = pair.path_set.copy()\n",
    "                    b.add(pair.i - 1)\n",
    "                    queue.append(Pair(pair.i - 1, pair.j-arr[pair.i-1], b))\n",
    "get_subsets(arr, len(arr), tar)'''"
   ]
  },
  {
   "cell_type": "code",
   "execution_count": 55,
   "metadata": {},
   "outputs": [
    {
     "name": "stdout",
     "output_type": "stream",
     "text": [
      "7\n"
     ]
    }
   ],
   "source": [
    "### Subarrays Sums Divisible by K\n",
    "arr = [4,5,0,-2,-3,1]#[2,3,5,4,5,3,4]\n",
    "dict = {'0':1}\n",
    "s = 0\n",
    "r = 0\n",
    "k = 5\n",
    "ans=1\n",
    "for i in range(len(arr)):\n",
    "    s  = s+arr[i]\n",
    "    r = s%k\n",
    "    if r<0:\n",
    "        r=r+k\n",
    "    if r in dict:\n",
    "        ans = ans+dict[r]\n",
    "        dict[r] = dict[r]+1\n",
    "    else:dict[r] = 1\n",
    "print(ans)"
   ]
  },
  {
   "cell_type": "code",
   "execution_count": 56,
   "metadata": {},
   "outputs": [
    {
     "name": "stdout",
     "output_type": "stream",
     "text": [
      "4\n"
     ]
    }
   ],
   "source": [
    "### Longest Subarray with Sum Divisible by K \n",
    "arr = [4,5,0,-2,-3,1]#[2,3,5,4,5,3,4]\n",
    "dict = {'0':-1}\n",
    "s = 0\n",
    "r = 0\n",
    "k = 5\n",
    "ans=0\n",
    "for i in range(len(arr)):\n",
    "    s  = s+arr[i]\n",
    "    r = s%k\n",
    "    if r<0:\n",
    "        r=r+k\n",
    "    if r in dict:\n",
    "        val = dict[r]\n",
    "        final = i-val\n",
    "        if final>ans:\n",
    "            ans=final\n",
    "    else:dict[r] = i\n",
    "print(ans)"
   ]
  },
  {
   "cell_type": "code",
   "execution_count": 65,
   "metadata": {},
   "outputs": [
    {
     "name": "stdout",
     "output_type": "stream",
     "text": [
      "[1, 2, 1, 3, 2, 4, 4, 5, 6, 1]\n"
     ]
    }
   ],
   "source": [
    "## Longest Increasing Subsequence \n",
    "arr = [10,22,9,33,21,50,41,60,80,3]\n",
    "dp = [0]*len(arr)\n",
    "dp[0]=1\n",
    "for i in range(len(arr)):\n",
    "    max1=0\n",
    "    for j in range(i):\n",
    "        if arr[j]<arr[i]:\n",
    "            if dp[j]>max1:\n",
    "                max1=dp[j]\n",
    "    dp[i]=max1+1\n",
    "print(dp)"
   ]
  },
  {
   "cell_type": "code",
   "execution_count": 23,
   "metadata": {},
   "outputs": [
    {
     "name": "stdout",
     "output_type": "stream",
     "text": [
      "[3, 2, 2, 1, 0]\n",
      "[2, 2, 2, 1, 0]\n",
      "[2, 2, 1, 1, 0]\n",
      "[1, 1, 1, 1, 0]\n",
      "[0, 0, 0, 0, 0]\n"
     ]
    }
   ],
   "source": [
    "##Longest Common Subsequence\n",
    "s1 = \"abcd\"\n",
    "s2 = \"acbd\"\n",
    "dp = ([[0 for i in range(len(s1) + 1)]\n",
    "                for i in range(len(s2) + 1)])\n",
    "for i in range(len(s1)-1,-1,-1):\n",
    "    for j in range(len(s2)-1,-1,-1):\n",
    "        if s1[i]==s2[j]:\n",
    "            dp[i][j] = dp[i+1][j+1] + 1\n",
    "        else:\n",
    "            dp[i][j] = max(dp[i+1][j],dp[i][j+1])\n",
    "for i in dp:\n",
    "    print(i)"
   ]
  },
  {
   "cell_type": "code",
   "execution_count": 74,
   "metadata": {},
   "outputs": [
    {
     "ename": "TypeError",
     "evalue": "'int' object is not callable",
     "output_type": "error",
     "traceback": [
      "\u001b[0;31m---------------------------------------------------------------------------\u001b[0m",
      "\u001b[0;31mTypeError\u001b[0m                                 Traceback (most recent call last)",
      "\u001b[0;32m<ipython-input-74-4b5ab938986f>\u001b[0m in \u001b[0;36m<module>\u001b[0;34m\u001b[0m\n\u001b[1;32m     28\u001b[0m \u001b[0ma\u001b[0m \u001b[0;34m=\u001b[0m \u001b[0;34m[\u001b[0m\u001b[0;36m3\u001b[0m\u001b[0;34m,\u001b[0m \u001b[0;36m10\u001b[0m\u001b[0;34m,\u001b[0m \u001b[0;36m3\u001b[0m\u001b[0;34m,\u001b[0m \u001b[0;36m11\u001b[0m\u001b[0;34m,\u001b[0m \u001b[0;36m4\u001b[0m\u001b[0;34m,\u001b[0m \u001b[0;36m5\u001b[0m\u001b[0;34m,\u001b[0m \u001b[0;36m6\u001b[0m\u001b[0;34m,\u001b[0m \u001b[0;36m7\u001b[0m\u001b[0;34m,\u001b[0m \u001b[0;36m8\u001b[0m\u001b[0;34m,\u001b[0m \u001b[0;36m12\u001b[0m\u001b[0;34m]\u001b[0m\u001b[0;34m\u001b[0m\u001b[0;34m\u001b[0m\u001b[0m\n\u001b[1;32m     29\u001b[0m \u001b[0mn\u001b[0m \u001b[0;34m=\u001b[0m \u001b[0mlen\u001b[0m\u001b[0;34m(\u001b[0m\u001b[0ma\u001b[0m\u001b[0;34m)\u001b[0m\u001b[0;34m\u001b[0m\u001b[0;34m\u001b[0m\u001b[0m\n\u001b[0;32m---> 30\u001b[0;31m \u001b[0mprint\u001b[0m\u001b[0;34m(\u001b[0m\u001b[0mlongestSubsequence\u001b[0m\u001b[0;34m(\u001b[0m\u001b[0ma\u001b[0m\u001b[0;34m,\u001b[0m \u001b[0mn\u001b[0m\u001b[0;34m)\u001b[0m\u001b[0;34m)\u001b[0m\u001b[0;34m\u001b[0m\u001b[0;34m\u001b[0m\u001b[0m\n\u001b[0m",
      "\u001b[0;32m<ipython-input-74-4b5ab938986f>\u001b[0m in \u001b[0;36mlongestSubsequence\u001b[0;34m(a, n)\u001b[0m\n\u001b[1;32m     23\u001b[0m         \u001b[0mmp\u001b[0m\u001b[0;34m[\u001b[0m\u001b[0ma\u001b[0m\u001b[0;34m[\u001b[0m\u001b[0mi\u001b[0m\u001b[0;34m]\u001b[0m\u001b[0;34m]\u001b[0m \u001b[0;34m=\u001b[0m \u001b[0mi\u001b[0m \u001b[0;34m+\u001b[0m \u001b[0;36m1\u001b[0m\u001b[0;34m\u001b[0m\u001b[0;34m\u001b[0m\u001b[0m\n\u001b[1;32m     24\u001b[0m \u001b[0;34m\u001b[0m\u001b[0m\n\u001b[0;32m---> 25\u001b[0;31m         \u001b[0mmaximum\u001b[0m \u001b[0;34m=\u001b[0m \u001b[0mmax\u001b[0m\u001b[0;34m(\u001b[0m\u001b[0mmaximum\u001b[0m\u001b[0;34m,\u001b[0m \u001b[0mdp\u001b[0m\u001b[0;34m[\u001b[0m\u001b[0mi\u001b[0m\u001b[0;34m]\u001b[0m\u001b[0;34m)\u001b[0m\u001b[0;34m\u001b[0m\u001b[0;34m\u001b[0m\u001b[0m\n\u001b[0m\u001b[1;32m     26\u001b[0m     \u001b[0;32mreturn\u001b[0m \u001b[0mmaximum\u001b[0m\u001b[0;34m\u001b[0m\u001b[0;34m\u001b[0m\u001b[0m\n\u001b[1;32m     27\u001b[0m \u001b[0;34m\u001b[0m\u001b[0m\n",
      "\u001b[0;31mTypeError\u001b[0m: 'int' object is not callable"
     ]
    }
   ],
   "source": [
    "### Longest Continuous Increasing Subsequence\n",
    "\n",
    "\n",
    "from collections import defaultdict\n",
    "import sys\n",
    "\n",
    "\n",
    "\n",
    "def longestSubsequence(a, n):\n",
    "    mp = defaultdict(lambda:0)\n",
    "    for i in mp:\n",
    "        print(i)\n",
    "    dp = [0 for i in range(n)]\n",
    "    maximum = -sys.maxsize\n",
    "\n",
    "    for i in range(n):\n",
    "        if a[i] - 1 in mp:\n",
    "            lastIndex = mp[a[i] - 1] - 1\n",
    "            dp[i] = 1 + dp[lastIndex]\n",
    "        else:\n",
    "            dp[i] = 1\n",
    "\n",
    "        mp[a[i]] = i + 1\n",
    "\n",
    "        maximum = max(maximum, dp[i])\n",
    "    return maximum\n",
    "\n",
    "a = [3, 10, 3, 11, 4, 5, 6, 7, 8, 12]\n",
    "n = len(a)\n",
    "print(longestSubsequence(a, n))\n"
   ]
  },
  {
   "cell_type": "code",
   "execution_count": 80,
   "metadata": {},
   "outputs": [
    {
     "ename": "TypeError",
     "evalue": "'int' object is not callable",
     "output_type": "error",
     "traceback": [
      "\u001b[0;31m---------------------------------------------------------------------------\u001b[0m",
      "\u001b[0;31mTypeError\u001b[0m                                 Traceback (most recent call last)",
      "\u001b[0;32m<ipython-input-80-4ed09e3a67a7>\u001b[0m in \u001b[0;36m<module>\u001b[0;34m\u001b[0m\n\u001b[1;32m      7\u001b[0m         \u001b[0mcount\u001b[0m \u001b[0;34m+=\u001b[0m \u001b[0;36m1\u001b[0m\u001b[0;34m\u001b[0m\u001b[0;34m\u001b[0m\u001b[0m\n\u001b[1;32m      8\u001b[0m     \u001b[0;32melse\u001b[0m\u001b[0;34m:\u001b[0m\u001b[0;34m\u001b[0m\u001b[0;34m\u001b[0m\u001b[0m\n\u001b[0;32m----> 9\u001b[0;31m         \u001b[0mres\u001b[0m \u001b[0;34m=\u001b[0m \u001b[0mmax\u001b[0m\u001b[0;34m(\u001b[0m\u001b[0mres\u001b[0m\u001b[0;34m,\u001b[0m \u001b[0mcount\u001b[0m\u001b[0;34m)\u001b[0m\u001b[0;34m\u001b[0m\u001b[0;34m\u001b[0m\u001b[0m\n\u001b[0m\u001b[1;32m     10\u001b[0m         \u001b[0mcount\u001b[0m \u001b[0;34m=\u001b[0m \u001b[0;36m1\u001b[0m\u001b[0;34m\u001b[0m\u001b[0;34m\u001b[0m\u001b[0m\n\u001b[1;32m     11\u001b[0m \u001b[0mprint\u001b[0m\u001b[0;34m(\u001b[0m\u001b[0mres\u001b[0m\u001b[0;34m)\u001b[0m\u001b[0;34m\u001b[0m\u001b[0;34m\u001b[0m\u001b[0m\n",
      "\u001b[0;31mTypeError\u001b[0m: 'int' object is not callable"
     ]
    }
   ],
   "source": [
    "a = [3, 10, 3, 11, 4, 5, 6, 7, 8, 12]\n",
    "n = len(a)\n",
    "res = 1\n",
    "count = 1\n",
    "for i in range(1, len(a)):\n",
    "    if a[i] > a[i-1]:\n",
    "        count += 1\n",
    "    else:\n",
    "        res = max(res, count)\n",
    "        count = 1\n",
    "print(res)"
   ]
  },
  {
   "cell_type": "code",
   "execution_count": 87,
   "metadata": {},
   "outputs": [
    {
     "name": "stdout",
     "output_type": "stream",
     "text": [
      "3\n"
     ]
    }
   ],
   "source": [
    "### Longest Common Substring \n",
    "### find longest suffix of every prefix for both strings\n",
    "s1 = \"pqabcxp\"\n",
    "s2 = \"xyzabcp\"\n",
    "dp = ([[False for i in range(len(s1) + 1)]\n",
    "                for i in range(len(s2) + 1)])\n",
    "res = 0\n",
    "for i in range(1,len(s1)):\n",
    "    for j in range(1,len(s2)):\n",
    "        c1=s1[i-1]\n",
    "        c2=s2[j-1]\n",
    "        if c1==c2:\n",
    "            dp[i][j] = dp[i-1][j-1]+1\n",
    "        if dp[i][j]>res:\n",
    "            res=dp[i][j]\n",
    "print(res)\n",
    "        \n"
   ]
  },
  {
   "cell_type": "code",
   "execution_count": 10,
   "metadata": {},
   "outputs": [
    {
     "name": "stdout",
     "output_type": "stream",
     "text": [
      "[True, False, True, False, False]\n",
      "[False, True, False, False, True]\n",
      "[False, False, True, True, False]\n",
      "[False, False, False, True, False]\n",
      "[False, False, False, False, True]\n",
      "8\n"
     ]
    }
   ],
   "source": [
    "### Count Palindromic Substrings\n",
    "s =  \"abaab\" #\"abbaeae\" #\"abccbc\"\n",
    "dp = ([[False for i in range(len(s))]\n",
    "                for i in range(len(s))])\n",
    "count = 0\n",
    "for gap in range(len(s)):\n",
    "    i = 0\n",
    "    j = gap\n",
    "    while j < len(s):\n",
    "        if gap==0:\n",
    "            dp[i][j]=True\n",
    "        elif gap==1:\n",
    "            if s[i]==s[j]:\n",
    "                dp[i][j]=True\n",
    "        else:\n",
    "            if s[i]==s[j] and dp[i+1][j-1]==True:\n",
    "                dp[i][j]=True\n",
    "        if dp[i][j]==True:\n",
    "            count +=1\n",
    "        i += 1\n",
    "        j += 1\n",
    "for i in dp:\n",
    "    print(i)\n",
    "print(count)"
   ]
  },
  {
   "cell_type": "code",
   "execution_count": 13,
   "metadata": {},
   "outputs": [
    {
     "name": "stdout",
     "output_type": "stream",
     "text": [
      "[1, 2, 3]\n",
      "[0, 1, 2]\n",
      "[0, 0, 1]\n"
     ]
    }
   ],
   "source": [
    "### Count Palindromic Subsequences\n",
    "s =  \"abc\" #\"abbaeae\" #\"abccbc\"\n",
    "dp = ([[0 for i in range(len(s))]\n",
    "                for i in range(len(s))])\n",
    "\n",
    "count = 0\n",
    "for gap in range(len(s)):\n",
    "    i = 0\n",
    "    j = gap\n",
    "    while j < len(dp):\n",
    "        if gap==0:\n",
    "            dp[i][j]=1\n",
    "        elif gap==1:\n",
    "            if s[i]==s[j]:\n",
    "                dp[i][j]=3\n",
    "            else:dp[i][j]=2\n",
    "        else:\n",
    "            if s[i]==s[j]:\n",
    "                dp[i][j]=dp[i][j-1]+dp[i+1][j]+1\n",
    "            else:\n",
    "                dp[i][j]=dp[i][j-1]+dp[i+1][j] - dp[i+1][j-1]\n",
    "        i += 1\n",
    "        j += 1\n",
    "for i in dp:\n",
    "    print(i)\n"
   ]
  },
  {
   "cell_type": "code",
   "execution_count": 5,
   "metadata": {},
   "outputs": [
    {
     "name": "stdout",
     "output_type": "stream",
     "text": [
      "[0, 0, 0, 0, 0, 0, 0, 0, 0, 0, 0]\n",
      "[0, 0, 0, 0, 0, 0, 0, 0, 0, 0, 0]\n",
      "[0, 0, 0, 0, 0, 0, 0, 0, 0, 0, 0]\n",
      "\n",
      "\n",
      "[0, 0, 0, 0, 0, 0, 0, 0, 0, 0, 0]\n",
      "[0, 1, 2, 3, 4, 5, 6, 7, 8, 9, 10]\n",
      "[0, 1, 1, 1, 1, 1, 1, 1, 1, 1, 1]\n"
     ]
    }
   ],
   "source": [
    "#### Egg Dropping Problem\n",
    "floors = 10\n",
    "eggs = 2\n",
    "dp = ([[0 for i in range(11)]\n",
    "                for i in range(3)])\n",
    "for i in dp:\n",
    "    print(i)\n",
    "print(\"\\n\")\n",
    "for i in range(1,eggs+1):\n",
    "    for j in range(1,floors+1):\n",
    "        if i==1:\n",
    "            dp[i][j]=j\n",
    "        elif j==1:\n",
    "            dp[i][j]=1\n",
    "        else:\n",
    "            mj=j-1\n",
    "            pj=0\n",
    "            minn= 0\n",
    "            while mj>=0:\n",
    "                v1=dp[i][mj]\n",
    "                v2=dp[i-1][pj]\n",
    "                val=max(v1,v2)\n",
    "                minn = min(val,minn)\n",
    "                pj += 1\n",
    "                mj -= 1\n",
    "            dp[i][j]=minn+1\n",
    "        \n",
    "for i in dp:\n",
    "    print(i)"
   ]
  },
  {
   "cell_type": "code",
   "execution_count": 3,
   "metadata": {},
   "outputs": [
    {
     "name": "stdout",
     "output_type": "stream",
     "text": [
      "[0, 0, 0, 0, 0]\n",
      "[0, 0, 0, 0, 0]\n",
      "[0, 0, 0, 0, 0]\n",
      "[0, 0, 0, 0, 0]\n",
      "[0, 0, 0, 0, 0]\n",
      "\n",
      "\n",
      "[1, 2, 3, 3, 4]\n",
      "[0, 1, 2, 2, 3]\n",
      "[0, 0, 1, 1, 3]\n",
      "[0, 0, 0, 1, 1]\n",
      "[0, 0, 0, 0, 1]\n"
     ]
    }
   ],
   "source": [
    "## Longest Palindromic Subsequence\n",
    "s = \"bbbab\" #\"abkccbc\"\n",
    "\n",
    "dp = ([[0 for i in range(len(s))]\n",
    "                for i in range(len(s))])\n",
    "for i in dp:\n",
    "    print(i)\n",
    "print(\"\\n\")\n",
    "for gap in range(len(s)):\n",
    "    i=0\n",
    "    j=gap\n",
    "    while j < len(dp):\n",
    "        if gap==0:\n",
    "            dp[i][j] = 1\n",
    "        elif gap==1:\n",
    "            if s[i]==s[j]:\n",
    "                dp[i][j]=2\n",
    "            else:\n",
    "                dp[i][j]=1\n",
    "        else:\n",
    "            if s[i]==s[j]:\n",
    "                dp[i][j]=dp[i+1][j-1]+2\n",
    "            else:\n",
    "                dp[i][j]=max(dp[i+1][j],dp[i][j-1])\n",
    "        i += 1\n",
    "        j += 1\n",
    "for i in dp:\n",
    "    print(i)"
   ]
  },
  {
   "cell_type": "code",
   "execution_count": 105,
   "metadata": {},
   "outputs": [
    {
     "name": "stdout",
     "output_type": "stream",
     "text": [
      "941439802\n"
     ]
    }
   ],
   "source": [
    "#### Count Distinct Palindromic Subsequences\n",
    "#s = \"b\" \n",
    "#s = \"abacdaea\"\n",
    "s = \"abcdabcdabcdabcdabcdabcdabcdabcddcbadcbadcbadcbadcbadcbadcbadcba\"\n",
    "dp = ([[0 for i in range(len(s))]\n",
    "                for i in range(len(s))])\n",
    "next_arr = [0]*len(s)\n",
    "pre_arr = [0]*len(s)\n",
    "v = 10**9+7\n",
    "hashmap = {}\n",
    "for i in range(len(s)):\n",
    "    c = s[i]\n",
    "    if c not in hashmap:\n",
    "        pre_arr[i]=-1\n",
    "    else:\n",
    "        pre_arr[i]=hashmap[c]\n",
    "    hashmap[c]=i\n",
    "hashmap.clear()\n",
    "for i in range(len(s),0,-1):\n",
    "    c = s[i-1]\n",
    "    if c not in hashmap:\n",
    "        next_arr[i-1]=-1\n",
    "    else:\n",
    "        next_arr[i-1]=hashmap[c]\n",
    "    hashmap[c]=i\n",
    "for gap in range(len(s)):\n",
    "    i=0\n",
    "    j=gap\n",
    "    while j < len(dp):\n",
    "        if gap==0:\n",
    "            dp[i][j] = 1\n",
    "        elif gap==1:\n",
    "            dp[i][j]=2\n",
    "        else:\n",
    "            if s[i]!=s[j]:\n",
    "                dp[i][j]=(dp[i+1][j]%v + dp[i][j-1]%v - dp[i+1][j-1]%v)%v\n",
    "            else:\n",
    "                if next_arr[i]>pre_arr[j]:\n",
    "                    dp[i][j]=((2*dp[i+1][j-1]%v)%v+2)%v\n",
    "                elif next_arr[i]==pre_arr[j]:\n",
    "                    dp[i][j]=((2*dp[i+1][j-1]%v)%v+1)%v\n",
    "                else:\n",
    "                    dp[i][j]=(2*dp[i+1][j-1]%v - dp[next_arr[i]+1][pre_arr[j]-1]%v)%v\n",
    "        i += 1\n",
    "        j += 1\n",
    "#for i in dp:\n",
    "#    print(i)\n",
    "print(dp[0][-1])"
   ]
  },
  {
   "cell_type": "code",
   "execution_count": 26,
   "metadata": {},
   "outputs": [
    {
     "name": "stdout",
     "output_type": "stream",
     "text": [
      "[3, 3, 3, 2, 2, 1, 0]\n",
      "[3, 2, 2, 2, 2, 1, 0]\n",
      "[3, 2, 1, 1, 1, 1, 0]\n",
      "[2, 2, 1, 1, 1, 1, 0]\n",
      "[2, 2, 1, 1, 0, 0, 0]\n",
      "[1, 1, 1, 1, 0, 0, 0]\n",
      "[0, 0, 0, 0, 0, 0, 0]\n"
     ]
    }
   ],
   "source": [
    "### Longest Repeating Subsequence \n",
    "s = \"abacbc\"\n",
    "dp = ([[0 for i in range(len(s) + 1)]\n",
    "                for i in range(len(s) + 1)])\n",
    "for i in range(len(s)-1,-1,-1):\n",
    "    for j in range(len(s)-1,-1,-1):\n",
    "        if s[i]==s[j] and i != j:\n",
    "            dp[i][j] = dp[i+1][j+1] + 1\n",
    "        else:\n",
    "            dp[i][j] = max(dp[i+1][j],dp[i][j+1])\n",
    "for i in dp:\n",
    "    print(i)"
   ]
  },
  {
   "cell_type": "code",
   "execution_count": 50,
   "metadata": {},
   "outputs": [
    {
     "name": "stdout",
     "output_type": "stream",
     "text": [
      "[0, 0, 0, 0, 0, 0, 0, 0, 0, 0]\n",
      "[0, 0, 0, 0, 0, 0, 0, 0, 0, 0]\n",
      "[0, 0, 0, 0, 0, 0, 0, 0, 0, 0]\n",
      "[0, 0, 0, 0, 0, 0, 0, 0, 0, 0]\n",
      "[0, 0, 0, 0, 0, 0, 0, 0, 0, 0]\n",
      "[0, 0, 0, 0, 0, 0, 0, 0, 0, 0]\n",
      "\n",
      "\n",
      "[1, 0, 0, 0, 0, 0, 0, 0, 0, 0]\n",
      "[1, 0, 1, 0, 0, 0, 0, 0, 0, 0]\n",
      "[1, 0, 1, 0, 0, 0, 0, 1, 0, 1]\n",
      "[1, 1, 1, 1, 0, 0, 0, 1, 1, 1]\n",
      "[1, 1, 1, 1, 1, 1, 1, 1, 1, 1]\n",
      "[1, 1, 1, 1, 1, 1, 1, 1, 1, 1]\n"
     ]
    }
   ],
   "source": [
    "###Target Sum Subsets\n",
    "import sys\n",
    "arr = [4,2,7,1,3]\n",
    "tar = 9\n",
    "dp = ([[(0) for i in range(tar + 1)] for i in range(len(arr) + 1)])\n",
    "for i in dp:\n",
    "    print(i)\n",
    "print(\"\\n\")\n",
    "for i in range(len(dp)):\n",
    "    dp[i][0]=1\n",
    "for j in range(1,len(dp[0])):\n",
    "    dp[0][j]=0\n",
    "for i in range(1,len(dp)):\n",
    "    for j in range(1,len(dp[0])):\n",
    "        if dp[i-1][j]==1:\n",
    "            dp[i][j]=1\n",
    "        else:\n",
    "            if dp[i-1][j-arr[i]]==1:\n",
    "                dp[i][j]=1\n",
    "            else:pass\n",
    "    \n",
    "for i in dp:\n",
    "    print(i)"
   ]
  },
  {
   "cell_type": "code",
   "execution_count": 57,
   "metadata": {},
   "outputs": [
    {
     "name": "stdout",
     "output_type": "stream",
     "text": [
      "1111\n",
      "112\n",
      "121\n",
      "13\n",
      "211\n",
      "22\n",
      "31\n"
     ]
    }
   ],
   "source": [
    "### Print Stair Paths \n",
    "## going down\n",
    "def printStairs(n,path):\n",
    "    if n<0:\n",
    "        return\n",
    "    if n==0:\n",
    "        print(path)\n",
    "    printStairs(n-1,path+\"1\")\n",
    "    printStairs(n-2,path+\"2\")\n",
    "    printStairs(n-3,path+\"3\")\n",
    "printStairs(4,\"\")"
   ]
  },
  {
   "cell_type": "code",
   "execution_count": 75,
   "metadata": {},
   "outputs": [
    {
     "name": "stdout",
     "output_type": "stream",
     "text": [
      "274\n"
     ]
    }
   ],
   "source": [
    "# total path for Climbing Stairs\n",
    "# memozition\n",
    "\n",
    "def climbingStairspath(n,arr):\n",
    "    if n==0:\n",
    "        return 1\n",
    "    else:\n",
    "        if n<0:\n",
    "            return 0\n",
    "    if arr[n]>0:\n",
    "        return arr[n]\n",
    "    p1=climbingStairspath(n-1,arr)\n",
    "    p2=climbingStairspath(n-2,arr)\n",
    "    p3=climbingStairspath(n-3,arr)\n",
    "    cp = p1+p2+p3\n",
    "    arr[n]=cp\n",
    "    return cp\n",
    "print(climbingStairspath(10,[0]*11)) #11=n+1, n=10\n"
   ]
  },
  {
   "cell_type": "code",
   "execution_count": 74,
   "metadata": {},
   "outputs": [
    {
     "name": "stdout",
     "output_type": "stream",
     "text": [
      "[1, 1, 2, 4, 7, 13, 24, 44, 81, 149, 274]\n"
     ]
    }
   ],
   "source": [
    "## use tabulation\n",
    "def csp(n):\n",
    "    dp = [0]*(n+1)\n",
    "    dp[0]=1\n",
    "    for i in range(1,n+1):\n",
    "        #print(i)\n",
    "        #print(dp)\n",
    "        if i==1:\n",
    "            dp[i]=dp[i-1]\n",
    "        elif i==2:\n",
    "            dp[i]=dp[i-1]+dp[i-2]\n",
    "        else:\n",
    "            dp[i]=dp[i-1]+dp[i-2]+dp[i-3]\n",
    "        #print(dp)\n",
    "    return dp\n",
    "print(csp(10))\n"
   ]
  },
  {
   "cell_type": "code",
   "execution_count": null,
   "metadata": {},
   "outputs": [],
   "source": []
  }
 ],
 "metadata": {
  "kernelspec": {
   "display_name": "Python 3",
   "language": "python",
   "name": "python3"
  },
  "language_info": {
   "codemirror_mode": {
    "name": "ipython",
    "version": 3
   },
   "file_extension": ".py",
   "mimetype": "text/x-python",
   "name": "python",
   "nbconvert_exporter": "python",
   "pygments_lexer": "ipython3",
   "version": "3.8.10"
  }
 },
 "nbformat": 4,
 "nbformat_minor": 4
}
